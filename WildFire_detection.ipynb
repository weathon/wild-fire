{
  "nbformat": 4,
  "nbformat_minor": 0,
  "metadata": {
    "colab": {
      "provenance": [],
      "gpuType": "T4",
      "authorship_tag": "ABX9TyP/fu0RZYEwllPumujnbfLT",
      "include_colab_link": true
    },
    "kernelspec": {
      "name": "python3",
      "display_name": "Python 3"
    },
    "language_info": {
      "name": "python"
    },
    "accelerator": "GPU"
  },
  "cells": [
    {
      "cell_type": "markdown",
      "metadata": {
        "id": "view-in-github",
        "colab_type": "text"
      },
      "source": [
        "<a href=\"https://colab.research.google.com/github/weathon/wild-fire/blob/main/WildFire_detection.ipynb\" target=\"_parent\"><img src=\"https://colab.research.google.com/assets/colab-badge.svg\" alt=\"Open In Colab\"/></a>"
      ]
    },
    {
      "cell_type": "code",
      "execution_count": null,
      "metadata": {
        "id": "B18JKEz92wQ2"
      },
      "outputs": [],
      "source": [
        "# Dataset Used\n",
        "# https://www.kaggle.com/datasets/brsdincer/wildfire-detection-image-data"
      ]
    },
    {
      "cell_type": "code",
      "source": [
        "!unzip archive.zip"
      ],
      "metadata": {
        "id": "eGMfu4uG2_E5"
      },
      "execution_count": null,
      "outputs": []
    },
    {
      "cell_type": "code",
      "source": [
        "!pip install torchinfo"
      ],
      "metadata": {
        "colab": {
          "base_uri": "https://localhost:8080/"
        },
        "id": "WmDUH_fJ3jUh",
        "outputId": "2f4043ca-e3c9-459a-8915-55442152eaec"
      },
      "execution_count": 4,
      "outputs": [
        {
          "output_type": "stream",
          "name": "stdout",
          "text": [
            "Collecting torchinfo\n",
            "  Downloading torchinfo-1.8.0-py3-none-any.whl (23 kB)\n",
            "Installing collected packages: torchinfo\n",
            "Successfully installed torchinfo-1.8.0\n"
          ]
        }
      ]
    },
    {
      "cell_type": "code",
      "source": [
        "import torch, torchinfo\n",
        "\n",
        "class Block(torch.nn.Module):\n",
        "  def __init__(self, i, o):\n",
        "    super().__init__()\n",
        "    self.conv1 = torch.nn.Conv2d(i, o, (3, 3), padding=1)\n",
        "    self.pro1 = torch.nn.Conv2d(i, o, (1, 1))\n",
        "    self.conv2 = torch.nn.Conv2d(o, o, (3, 3), 2)\n",
        "    self.relu = torch.nn.ReLU()\n",
        "\n",
        "\n",
        "  def forward(self, img):\n",
        "    x = self.relu(self.conv1(img)) + self.pro1(img)\n",
        "    return self.relu(self.conv2(x))\n",
        "\n",
        "torchinfo.summary(Block(3, 16), (1,3,250,250))"
      ],
      "metadata": {
        "colab": {
          "base_uri": "https://localhost:8080/"
        },
        "id": "6oVwP1cu26SQ",
        "outputId": "9efb6a34-c92b-47f0-ecc0-c11d86e93e1a"
      },
      "execution_count": 25,
      "outputs": [
        {
          "output_type": "execute_result",
          "data": {
            "text/plain": [
              "==========================================================================================\n",
              "Layer (type:depth-idx)                   Output Shape              Param #\n",
              "==========================================================================================\n",
              "Block                                    [1, 16, 124, 124]         --\n",
              "├─Conv2d: 1-1                            [1, 16, 250, 250]         448\n",
              "├─Conv2d: 1-2                            [1, 16, 250, 250]         64\n",
              "├─Conv2d: 1-3                            [1, 16, 124, 124]         2,320\n",
              "==========================================================================================\n",
              "Total params: 2,832\n",
              "Trainable params: 2,832\n",
              "Non-trainable params: 0\n",
              "Total mult-adds (M): 67.67\n",
              "==========================================================================================\n",
              "Input size (MB): 0.75\n",
              "Forward/backward pass size (MB): 17.97\n",
              "Params size (MB): 0.01\n",
              "Estimated Total Size (MB): 18.73\n",
              "=========================================================================================="
            ]
          },
          "metadata": {},
          "execution_count": 25
        }
      ]
    },
    {
      "cell_type": "code",
      "source": [
        "class Model(torch.nn.Module):\n",
        "  def __init__(self):\n",
        "    super().__init__()\n",
        "    self.block1 = Block(3, 16)\n",
        "    self.block2 = Block(16, 32)\n",
        "    self.block3 = Block(32, 64)\n",
        "    self.block4 = Block(64, 128)\n",
        "    self.block5 = Block(128, 256)\n",
        "    self.f = torch.nn.Flatten()\n",
        "    self.FC1 = torch.nn.Linear(9216, 1024)\n",
        "    self.relu1 = torch.nn.ReLU()\n",
        "    self.FC2 = torch.nn.Linear(1024, 16)\n",
        "    self.relu2 = torch.nn.ReLU()\n",
        "    self.FC3 = torch.nn.Linear(16, 1)\n",
        "\n",
        "  def forward(self, x):\n",
        "    x =  self.f(self.block5(self.block4(self.block3(self.block2(self.block1(x))))))\n",
        "    return self.FC3(self.relu2(self.FC2(self.relu1(self.FC1(x)))))\n",
        "\n",
        "\n",
        "torchinfo.summary(Model(), (1024,3,250,250))"
      ],
      "metadata": {
        "colab": {
          "base_uri": "https://localhost:8080/"
        },
        "id": "lBLHypCg4wGw",
        "outputId": "0f55f060-6f9c-4077-e639-2c7cbcbaf3b5"
      },
      "execution_count": 34,
      "outputs": [
        {
          "output_type": "execute_result",
          "data": {
            "text/plain": [
              "==========================================================================================\n",
              "Layer (type:depth-idx)                   Output Shape              Param #\n",
              "==========================================================================================\n",
              "Model                                    [1024, 1]                 --\n",
              "├─Block: 1-1                             [1024, 16, 124, 124]      --\n",
              "│    └─Conv2d: 2-1                       [1024, 16, 250, 250]      448\n",
              "│    └─Conv2d: 2-2                       [1024, 16, 250, 250]      64\n",
              "│    └─Conv2d: 2-3                       [1024, 16, 124, 124]      2,320\n",
              "├─Block: 1-2                             [1024, 32, 61, 61]        --\n",
              "│    └─Conv2d: 2-4                       [1024, 32, 124, 124]      4,640\n",
              "│    └─Conv2d: 2-5                       [1024, 32, 124, 124]      544\n",
              "│    └─Conv2d: 2-6                       [1024, 32, 61, 61]        9,248\n",
              "├─Block: 1-3                             [1024, 64, 30, 30]        --\n",
              "│    └─Conv2d: 2-7                       [1024, 64, 61, 61]        18,496\n",
              "│    └─Conv2d: 2-8                       [1024, 64, 61, 61]        2,112\n",
              "│    └─Conv2d: 2-9                       [1024, 64, 30, 30]        36,928\n",
              "├─Block: 1-4                             [1024, 128, 14, 14]       --\n",
              "│    └─Conv2d: 2-10                      [1024, 128, 30, 30]       73,856\n",
              "│    └─Conv2d: 2-11                      [1024, 128, 30, 30]       8,320\n",
              "│    └─Conv2d: 2-12                      [1024, 128, 14, 14]       147,584\n",
              "├─Block: 1-5                             [1024, 256, 6, 6]         --\n",
              "│    └─Conv2d: 2-13                      [1024, 256, 14, 14]       295,168\n",
              "│    └─Conv2d: 2-14                      [1024, 256, 14, 14]       33,024\n",
              "│    └─Conv2d: 2-15                      [1024, 256, 6, 6]         590,080\n",
              "├─Flatten: 1-6                           [1024, 9216]              --\n",
              "├─Linear: 1-7                            [1024, 1024]              9,438,208\n",
              "├─ReLU: 1-8                              [1024, 1024]              --\n",
              "├─Linear: 1-9                            [1024, 16]                16,400\n",
              "├─ReLU: 1-10                             [1024, 16]                --\n",
              "├─Linear: 1-11                           [1024, 1]                 17\n",
              "==========================================================================================\n",
              "Total params: 10,677,457\n",
              "Trainable params: 10,677,457\n",
              "Non-trainable params: 0\n",
              "Total mult-adds (G): 501.37\n",
              "==========================================================================================\n",
              "Input size (MB): 768.00\n",
              "Forward/backward pass size (MB): 34808.93\n",
              "Params size (MB): 42.71\n",
              "Estimated Total Size (MB): 35619.64\n",
              "=========================================================================================="
            ]
          },
          "metadata": {},
          "execution_count": 34
        }
      ]
    },
    {
      "cell_type": "code",
      "source": [
        "images = []\n",
        "tags = []\n",
        "\n",
        "import cv2, os\n",
        "for i in os.listdir(\"/content/forest_fire/Training and Validation\"):\n",
        "  print(i)\n",
        "  5/0"
      ],
      "metadata": {
        "colab": {
          "base_uri": "https://localhost:8080/",
          "height": 236
        },
        "id": "rnBT4nXq6MEK",
        "outputId": "68c5983a-c31d-4b5b-911e-506c3e51f197"
      },
      "execution_count": 36,
      "outputs": [
        {
          "output_type": "stream",
          "name": "stdout",
          "text": [
            "nofire\n"
          ]
        },
        {
          "output_type": "error",
          "ename": "ZeroDivisionError",
          "evalue": "ignored",
          "traceback": [
            "\u001b[0;31m---------------------------------------------------------------------------\u001b[0m",
            "\u001b[0;31mZeroDivisionError\u001b[0m                         Traceback (most recent call last)",
            "\u001b[0;32m<ipython-input-36-4347b54fd39a>\u001b[0m in \u001b[0;36m<cell line: 5>\u001b[0;34m()\u001b[0m\n\u001b[1;32m      5\u001b[0m \u001b[0;32mfor\u001b[0m \u001b[0mi\u001b[0m \u001b[0;32min\u001b[0m \u001b[0mos\u001b[0m\u001b[0;34m.\u001b[0m\u001b[0mlistdir\u001b[0m\u001b[0;34m(\u001b[0m\u001b[0;34m\"/content/forest_fire/Training and Validation\"\u001b[0m\u001b[0;34m)\u001b[0m\u001b[0;34m:\u001b[0m\u001b[0;34m\u001b[0m\u001b[0;34m\u001b[0m\u001b[0m\n\u001b[1;32m      6\u001b[0m   \u001b[0mprint\u001b[0m\u001b[0;34m(\u001b[0m\u001b[0mi\u001b[0m\u001b[0;34m)\u001b[0m\u001b[0;34m\u001b[0m\u001b[0;34m\u001b[0m\u001b[0m\n\u001b[0;32m----> 7\u001b[0;31m   \u001b[0;36m5\u001b[0m\u001b[0;34m/\u001b[0m\u001b[0;36m0\u001b[0m\u001b[0;34m\u001b[0m\u001b[0;34m\u001b[0m\u001b[0m\n\u001b[0m",
            "\u001b[0;31mZeroDivisionError\u001b[0m: division by zero"
          ]
        }
      ]
    }
  ]
}
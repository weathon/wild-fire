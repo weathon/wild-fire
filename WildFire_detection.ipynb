{
  "nbformat": 4,
  "nbformat_minor": 0,
  "metadata": {
    "colab": {
      "provenance": [],
      "gpuType": "T4",
      "authorship_tag": "ABX9TyPFqF2HqwIYJCt/nbNL/3A3",
      "include_colab_link": true
    },
    "kernelspec": {
      "name": "python3",
      "display_name": "Python 3"
    },
    "language_info": {
      "name": "python"
    },
    "accelerator": "GPU"
  },
  "cells": [
    {
      "cell_type": "markdown",
      "metadata": {
        "id": "view-in-github",
        "colab_type": "text"
      },
      "source": [
        "<a href=\"https://colab.research.google.com/github/weathon/wild-fire/blob/main/WildFire_detection.ipynb\" target=\"_parent\"><img src=\"https://colab.research.google.com/assets/colab-badge.svg\" alt=\"Open In Colab\"/></a>"
      ]
    },
    {
      "cell_type": "code",
      "execution_count": 79,
      "metadata": {
        "id": "B18JKEz92wQ2"
      },
      "outputs": [],
      "source": [
        "# Dataset Used\n",
        "# https://www.kaggle.com/datasets/brsdincer/wildfire-detection-image-data"
      ]
    },
    {
      "cell_type": "code",
      "source": [
        "!unzip archive.zip"
      ],
      "metadata": {
        "colab": {
          "base_uri": "https://localhost:8080/"
        },
        "id": "eGMfu4uG2_E5",
        "outputId": "64528243-7009-4295-94eb-9045adaa578c"
      },
      "execution_count": null,
      "outputs": [
        {
          "output_type": "stream",
          "name": "stdout",
          "text": [
            "Archive:  archive.zip\n",
            "replace forest_fire/Testing/fire/abc169.jpg? [y]es, [n]o, [A]ll, [N]one, [r]ename: "
          ]
        }
      ]
    },
    {
      "cell_type": "code",
      "source": [
        "!pip install torchinfo"
      ],
      "metadata": {
        "id": "WmDUH_fJ3jUh"
      },
      "execution_count": null,
      "outputs": []
    },
    {
      "cell_type": "code",
      "source": [
        "import torch, torchinfo\n",
        "\n",
        "class Block(torch.nn.Module):\n",
        "  def __init__(self, i, o):\n",
        "    super().__init__()\n",
        "    self.conv1 = torch.nn.Conv2d(i, o, (3, 3), padding=1)\n",
        "    self.pro1 = torch.nn.Conv2d(i, o, (1, 1))\n",
        "    self.conv2 = torch.nn.Conv2d(o, o, (3, 3), 2)\n",
        "    self.relu = torch.nn.ReLU()\n",
        "\n",
        "\n",
        "  def forward(self, img):\n",
        "    x = self.relu(self.conv1(img)) + self.pro1(img)\n",
        "    return self.relu(self.conv2(x))\n",
        "\n",
        "torchinfo.summary(Block(3, 16), (1,3,250,250))"
      ],
      "metadata": {
        "id": "6oVwP1cu26SQ"
      },
      "execution_count": null,
      "outputs": []
    },
    {
      "cell_type": "code",
      "source": [
        "class Model(torch.nn.Module):\n",
        "  def __init__(self):\n",
        "    super().__init__()\n",
        "    self.block1 = Block(3, 16)\n",
        "    self.block2 = Block(16, 32)\n",
        "    self.block3 = Block(32, 64)\n",
        "    self.block4 = Block(64, 128)\n",
        "    self.block5 = Block(128, 256)\n",
        "    self.f = torch.nn.Flatten()\n",
        "    self.FC1 = torch.nn.Linear(9216, 1024)\n",
        "    self.relu1 = torch.nn.ReLU()\n",
        "    self.FC2 = torch.nn.Linear(1024, 16)\n",
        "    self.relu2 = torch.nn.ReLU()\n",
        "    self.FC3 = torch.nn.Linear(16, 1)\n",
        "\n",
        "  def forward(self, x):\n",
        "    x =  self.f(self.block5(self.block4(self.block3(self.block2(self.block1(x))))))\n",
        "    return self.FC3(self.relu2(self.FC2(self.relu1(self.FC1(x)))))\n",
        "\n",
        "\n",
        "torchinfo.summary(Model(), (1024,3,250,250))"
      ],
      "metadata": {
        "id": "lBLHypCg4wGw"
      },
      "execution_count": null,
      "outputs": []
    },
    {
      "cell_type": "code",
      "source": [
        "images = []\n",
        "tags = []\n",
        "\n",
        "import cv2, os\n",
        "for i in os.listdir(\"/content/forest_fire/Training and Validation/fire\"):\n",
        "  # https://stackoverflow.com/questions/50963283/imshow-doesnt-need-convert-from-bgr-to-rgb\n",
        "  images.append(cv2.cvtColor(cv2.imread(\"/content/forest_fire/Training and Validation/fire/\"+i), cv2.COLOR_BGR2RGB))\n",
        "  tags.append(1)\n",
        "\n",
        "for i in os.listdir(\"/content/forest_fire/Training and Validation/nofire\"):\n",
        "  images.append(cv2.cvtColor(cv2.imread(\"/content/forest_fire/Training and Validation/nofire/\"+i), cv2.COLOR_BGR2RGB))\n",
        "  tags.append(0)"
      ],
      "metadata": {
        "id": "rnBT4nXq6MEK"
      },
      "execution_count": null,
      "outputs": []
    },
    {
      "cell_type": "code",
      "source": [
        "import pylab\n",
        "pylab.imshow(images[0])\n",
        "pylab.title(tags[0])\n",
        "pylab.show()\n",
        "\n",
        "pylab.imshow(images[-1])\n",
        "pylab.title(tags[-1])\n",
        "pylab.show()"
      ],
      "metadata": {
        "id": "aGVhc-FX7cnx"
      },
      "execution_count": null,
      "outputs": []
    },
    {
      "cell_type": "code",
      "source": [
        "import numpy as np\n",
        "\n",
        "#shuffle\n",
        "indexes = np.arange(len(images))\n",
        "np.random.shuffle(indexes)\n",
        "images = torch.tensor(np.array(images)[indexes], dtype=torch.float32).cuda()\n",
        "tags = torch.tensor(np.array(tags)[indexes], dtype=torch.float32).cuda()"
      ],
      "metadata": {
        "id": "0QVG4LXn8C_c"
      },
      "execution_count": null,
      "outputs": []
    },
    {
      "cell_type": "code",
      "source": [
        "images.shape"
      ],
      "metadata": {
        "id": "Y6ZiTogY-k1a"
      },
      "execution_count": null,
      "outputs": []
    },
    {
      "cell_type": "code",
      "source": [
        "losses = []\n",
        "acc = []\n",
        "\n",
        "def sigmoid(x):\n",
        "  # https://en.wikipedia.org/wiki/Sigmoid_function\n",
        "  return 1/(1+torch.exp(-x))\n",
        "\n",
        "m = Model().cuda()\n",
        "adam  = torch.optim.Adam(m.parameters())\n",
        "\n",
        "loss = torch.nn.BCELoss()\n",
        "for EPOCH in range(30):\n",
        "  for i in range(len(images)):\n",
        "    op.zero_grad()\n",
        "    # https://stackoverflow.com/questions/65470807/how-to-add-a-new-dimension-to-a-pytorch-tensor\n",
        "    predicted = sigmoid(m(\n",
        "        torch.unsqueeze(torch.permute(images[i], (2, 0, 1)), 0)\n",
        "        ))\n",
        "    # predicted = sigmoid(m(torch.permute(images[i], (2, 0, 1)).unsqueeze(0)))\n",
        "    l = loss(predicted, torch.unsqueeze(torch.unsqueeze(tags[i], 0), 0).cuda())\n",
        "    l.backward()\n",
        "    adam.step()\n",
        "    # adam.setp()\n",
        "    losses.append(l)\n",
        "    acc.append(torch.round(predicted)==tags[i])\n",
        "    if i%100==0:\n",
        "      print(loss)"
      ],
      "metadata": {
        "id": "TWHNzEfI8Jn0"
      },
      "execution_count": null,
      "outputs": []
    },
    {
      "cell_type": "code",
      "source": [
        "torch.unsqueeze(tags[i], 0).cuda().shape"
      ],
      "metadata": {
        "id": "Cdb5fDHM_tcd"
      },
      "execution_count": null,
      "outputs": []
    }
  ]
}